{
 "cells": [
  {
   "cell_type": "markdown",
   "id": "a8cefe27-e954-48f1-932b-38e851eeaef2",
   "metadata": {},
   "source": [
    "# Naive Bayes\n",
    "\n",
    "\n",
    "### Naive Bayes sınıflandırma algoritması, istatistiksel bir sınıflandırma algoritmasıdır ve makine öğrenimi alanında yaygın olarak kullanılan bir yöntemdir. Temel olarak Bayes teoremine dayanan bu algoritma, sınıflandırma yaparken verilerin özelliklerini kullanır.\n",
    "\n",
    "### Naive Bayes algoritması, \"naive\" (saf veya safdışı) olarak adlandırılır, çünkü sınıflandırma yaparken özellikler arasında bağımsızlık varsayımında bulunur. Bu, her bir özelliğin sınıfı belirlemedeki etkisini bağımsız olarak değerlendireceği anlamına gelir. Gerçek dünyada, özellikler genellikle birbiriyle ilişkili olabilir, ancak bu varsayım, modelin yeterli bir performans sergilemesini sağlayabilir.\n",
    "\n",
    "## Naive Bayes algoritmasının temel adımları şunlardır:\n",
    "\n",
    "### Veri Kümesinin Hazırlanması: İlk adımda, sınıflandırma yapmak için kullanılacak veri kümesi hazırlanır. Veri seti, sınıflandırmak istediğiniz örneklerden ve bu örneklerin özelliklerinden oluşur.\n",
    "\n",
    "### Özelliklerin Seçimi: Sınıflandırma yapmak için kullanılacak özellikler seçilir. Özellikler, veri kümesindeki her bir örnek için sayısal veya kategorik değerler olabilir.\n",
    "\n",
    "### Olasılık Dağılımlarının Tahmin Edilmesi: Naive Bayes algoritması, veri kümesindeki her bir özelliğin sınıflara ait olasılık dağılımlarını tahmin eder. Bu, her bir eder. Bu, her bir özelliğin her bir sınıfa ait olasılık yoğunluk fonksiyonunu hesaplamayı gerektirir.\n",
    "\n",
    "### Bayes Teoremini Kullanarak Sınıfın Belirlenmesi: Naive Bayes algoritması, Bayes teoremini kullanarak verilen bir örneğin sınıfını belirler. Bayes teoremi, sınıfın verilen özelliklere dayalı olarak nasıl tahmin edilebileceğini açıklar. Bu adımda, önceki adımda hesaplanan olasılık dağılımları kullanılır.\n",
    "\n",
    "### Modelin Eğitilmesi ve Test Edilmesi: Naive Bayes algoritması, veri kümesini eğitim ve test verisi olarak ayırır. Eğitim verileri üzerinde model eğitilir ve ardından test verileri kullanılarak modelin performansı değerlendirilir.\n",
    "\n",
    "## Naive Bayes Algoritması Hakkında Bazı Önemli Detaylar Şunlardır:\n",
    "\n",
    "### Naive Bayes algoritması, özellikle doğal dil işleme, spam filtreleme, duygu analizi gibi metin tabanlı sınıflandırma problemlerinde etkilidir.\n",
    "\n",
    "### Algoritma, küçük veri setleri üzerinde iyi performans gösterir ve hızlı bir şekilde eğitilir. Ancak, veri seti büyüdükçe ve özellikler arasındaki bağımlılık arttıkça performansı düşebilir.\n",
    "\n",
    "### Özellikler arasında gerçekten bağımsızlık varsayımı, gerçek dünyadaki verilere uygulanamaz. Bu nedenle, özellikler arasındaki bağımlılıkları yakalamak için daha gelişmiş yöntemler kullanılabilir.\n",
    "\n",
    "### Sınıflar arasındaki dengesizlikler, Naive Bayes algoritmasının performansını etkileyebilir. Eğer sınıflar arasında büyük bir dengesizlik varsa, algoritmanın doğruluk oranı düşebilir.\n",
    "\n",
    "### Naive Bayes algoritması, hafızada tutulan parametreleri gerektirir. Bu nedenle, yeni bir örneği sınıflandırmak için hesaplamarı hızlı bir şekilde yapabilir. \n",
    "\n",
    "### Laplace düzeltmesi, Naive Bayes algoritmasında kullanılan bir tekniktir ve küçük veri setleriyle çalışırken aşırı uyum sorununu azaltmaya yardımcı olur."
   ]
  },
  {
   "cell_type": "code",
   "execution_count": null,
   "id": "2e459a0f-2f53-4821-8cc5-639208ad23b2",
   "metadata": {},
   "outputs": [],
   "source": []
  },
  {
   "cell_type": "markdown",
   "id": "1e87d8f0-d2cb-4ba3-9825-272a921f81cc",
   "metadata": {},
   "source": [
    "## Gaussian Naive Bayes\n",
    "\n",
    "### Gaussian Naive Bayes, özelliklerin sürekli bir Gauss dağılımına sahip olduğu veri setleri için uygundur. Özellikler, genellikle gerçek sayı değerleridir. Örneğin, bir kişinin boyu, kilosu ve yaşının olduğu bir veri setinde bu tür sürekli değerler kullanılabilir. Gaussian Naive Bayes, özelliklerin Gauss dağılımlarını kullanarak olasılık yoğunluk fonksiyonlarını tahmin eder."
   ]
  },
  {
   "cell_type": "markdown",
   "id": "1fbb31e1-cfb5-4a97-91b9-d12122cbbf60",
   "metadata": {},
   "source": [
    "## Multinomial Naive Bayes\n",
    "\n",
    "### Multinomial Naive Bayes, özelliklerin çok sınıflı dağılımlara sahip olduğu veri setleri için uygundur. Özellikler, genellikle kategori veya frekans gibi sayısal veya kategorik değerlerdir. Örneğin, bir metindeki kelime frekansları veya belge sınıflandırmasında kullanılan kategori etiketleri bu tür verilere örnek olarak verilebilir. Multinomial Naive Bayes, özelliklerin olasılık dağılımlarını tahmin ederken, çok sınıflı olasılık yoğunluk fonksiyonlarını kullanır."
   ]
  },
  {
   "cell_type": "code",
   "execution_count": null,
   "id": "85f66c45-95f5-449a-b0ec-33ccacbd1b9b",
   "metadata": {},
   "outputs": [],
   "source": []
  },
  {
   "cell_type": "markdown",
   "id": "4b9dd954-a99d-4e3e-a307-b3475d9972a8",
   "metadata": {},
   "source": [
    "## Gaussian Naive Bayes"
   ]
  },
  {
   "cell_type": "code",
   "execution_count": 27,
   "id": "e6fd45ae-b0cd-4b65-80ce-23fde459e921",
   "metadata": {},
   "outputs": [],
   "source": [
    "import numpy as np\n",
    "import pandas as pd\n",
    "import seaborn as sns\n",
    "import matplotlib.pyplot as plt\n",
    "from sklearn.naive_bayes import GaussianNB\n",
    "from sklearn.model_selection import train_test_split, GridSearchCV, cross_val_score\n",
    "from sklearn.metrics import classification_report, confusion_matrix, accuracy_score"
   ]
  },
  {
   "cell_type": "code",
   "execution_count": 28,
   "id": "3f947da5-ccc8-4821-b73b-265389251ab4",
   "metadata": {},
   "outputs": [
    {
     "data": {
      "text/html": [
       "<div>\n",
       "<style scoped>\n",
       "    .dataframe tbody tr th:only-of-type {\n",
       "        vertical-align: middle;\n",
       "    }\n",
       "\n",
       "    .dataframe tbody tr th {\n",
       "        vertical-align: top;\n",
       "    }\n",
       "\n",
       "    .dataframe thead th {\n",
       "        text-align: right;\n",
       "    }\n",
       "</style>\n",
       "<table border=\"1\" class=\"dataframe\">\n",
       "  <thead>\n",
       "    <tr style=\"text-align: right;\">\n",
       "      <th></th>\n",
       "      <th>Ders1</th>\n",
       "      <th>Ders2</th>\n",
       "      <th>Ders3</th>\n",
       "      <th>Sınıf</th>\n",
       "    </tr>\n",
       "  </thead>\n",
       "  <tbody>\n",
       "    <tr>\n",
       "      <th>0</th>\n",
       "      <td>80</td>\n",
       "      <td>62</td>\n",
       "      <td>96</td>\n",
       "      <td>A</td>\n",
       "    </tr>\n",
       "    <tr>\n",
       "      <th>1</th>\n",
       "      <td>20</td>\n",
       "      <td>95</td>\n",
       "      <td>18</td>\n",
       "      <td>B</td>\n",
       "    </tr>\n",
       "    <tr>\n",
       "      <th>2</th>\n",
       "      <td>97</td>\n",
       "      <td>58</td>\n",
       "      <td>86</td>\n",
       "      <td>C</td>\n",
       "    </tr>\n",
       "    <tr>\n",
       "      <th>3</th>\n",
       "      <td>38</td>\n",
       "      <td>16</td>\n",
       "      <td>95</td>\n",
       "      <td>C</td>\n",
       "    </tr>\n",
       "    <tr>\n",
       "      <th>4</th>\n",
       "      <td>13</td>\n",
       "      <td>47</td>\n",
       "      <td>77</td>\n",
       "      <td>C</td>\n",
       "    </tr>\n",
       "  </tbody>\n",
       "</table>\n",
       "</div>"
      ],
      "text/plain": [
       "   Ders1  Ders2  Ders3 Sınıf\n",
       "0     80     62     96     A\n",
       "1     20     95     18     B\n",
       "2     97     58     86     C\n",
       "3     38     16     95     C\n",
       "4     13     47     77     C"
      ]
     },
     "execution_count": 28,
     "metadata": {},
     "output_type": "execute_result"
    }
   ],
   "source": [
    "# Veri setini oluşturalım.\n",
    "\n",
    "data = pd.DataFrame({\n",
    "    'Ders1': np.random.randint(0, 101, 50),\n",
    "    'Ders2': np.random.randint(0, 101, 50),\n",
    "    'Ders3': np.random.randint(0, 101, 50),\n",
    "    'Sınıf': np.random.choice(['A', 'B', 'C'], size=50)\n",
    "})\n",
    "data.head()"
   ]
  },
  {
   "cell_type": "markdown",
   "id": "cd398889-60d5-474b-bd3f-babf0a89eec5",
   "metadata": {},
   "source": [
    "# Veri Analizi"
   ]
  },
  {
   "cell_type": "code",
   "execution_count": 29,
   "id": "95dbbb94-ac81-454f-bd18-4cf4f056d9ca",
   "metadata": {},
   "outputs": [
    {
     "data": {
      "text/html": [
       "<div>\n",
       "<style scoped>\n",
       "    .dataframe tbody tr th:only-of-type {\n",
       "        vertical-align: middle;\n",
       "    }\n",
       "\n",
       "    .dataframe tbody tr th {\n",
       "        vertical-align: top;\n",
       "    }\n",
       "\n",
       "    .dataframe thead th {\n",
       "        text-align: right;\n",
       "    }\n",
       "</style>\n",
       "<table border=\"1\" class=\"dataframe\">\n",
       "  <thead>\n",
       "    <tr style=\"text-align: right;\">\n",
       "      <th></th>\n",
       "      <th>count</th>\n",
       "      <th>mean</th>\n",
       "      <th>std</th>\n",
       "      <th>min</th>\n",
       "      <th>25%</th>\n",
       "      <th>50%</th>\n",
       "      <th>75%</th>\n",
       "      <th>max</th>\n",
       "    </tr>\n",
       "  </thead>\n",
       "  <tbody>\n",
       "    <tr>\n",
       "      <th>Ders1</th>\n",
       "      <td>50.0</td>\n",
       "      <td>38.80</td>\n",
       "      <td>26.303565</td>\n",
       "      <td>3.0</td>\n",
       "      <td>17.75</td>\n",
       "      <td>33.5</td>\n",
       "      <td>54.25</td>\n",
       "      <td>99.0</td>\n",
       "    </tr>\n",
       "    <tr>\n",
       "      <th>Ders2</th>\n",
       "      <td>50.0</td>\n",
       "      <td>50.50</td>\n",
       "      <td>28.447051</td>\n",
       "      <td>3.0</td>\n",
       "      <td>22.00</td>\n",
       "      <td>56.0</td>\n",
       "      <td>72.75</td>\n",
       "      <td>97.0</td>\n",
       "    </tr>\n",
       "    <tr>\n",
       "      <th>Ders3</th>\n",
       "      <td>50.0</td>\n",
       "      <td>52.12</td>\n",
       "      <td>28.591878</td>\n",
       "      <td>6.0</td>\n",
       "      <td>21.25</td>\n",
       "      <td>55.5</td>\n",
       "      <td>78.75</td>\n",
       "      <td>96.0</td>\n",
       "    </tr>\n",
       "  </tbody>\n",
       "</table>\n",
       "</div>"
      ],
      "text/plain": [
       "       count   mean        std  min    25%   50%    75%   max\n",
       "Ders1   50.0  38.80  26.303565  3.0  17.75  33.5  54.25  99.0\n",
       "Ders2   50.0  50.50  28.447051  3.0  22.00  56.0  72.75  97.0\n",
       "Ders3   50.0  52.12  28.591878  6.0  21.25  55.5  78.75  96.0"
      ]
     },
     "execution_count": 29,
     "metadata": {},
     "output_type": "execute_result"
    }
   ],
   "source": [
    "data.describe().T"
   ]
  },
  {
   "cell_type": "code",
   "execution_count": 30,
   "id": "1607adb4-e279-4c8b-bdff-db7f1577cdff",
   "metadata": {},
   "outputs": [
    {
     "name": "stdout",
     "output_type": "stream",
     "text": [
      "<class 'pandas.core.frame.DataFrame'>\n",
      "RangeIndex: 50 entries, 0 to 49\n",
      "Data columns (total 4 columns):\n",
      " #   Column  Non-Null Count  Dtype \n",
      "---  ------  --------------  ----- \n",
      " 0   Ders1   50 non-null     int32 \n",
      " 1   Ders2   50 non-null     int32 \n",
      " 2   Ders3   50 non-null     int32 \n",
      " 3   Sınıf   50 non-null     object\n",
      "dtypes: int32(3), object(1)\n",
      "memory usage: 1.1+ KB\n"
     ]
    }
   ],
   "source": [
    "data.info()"
   ]
  },
  {
   "cell_type": "code",
   "execution_count": 31,
   "id": "699a2574-7b71-4910-a959-8ed9cf5affc9",
   "metadata": {},
   "outputs": [
    {
     "data": {
      "text/html": [
       "<div>\n",
       "<style scoped>\n",
       "    .dataframe tbody tr th:only-of-type {\n",
       "        vertical-align: middle;\n",
       "    }\n",
       "\n",
       "    .dataframe tbody tr th {\n",
       "        vertical-align: top;\n",
       "    }\n",
       "\n",
       "    .dataframe thead th {\n",
       "        text-align: right;\n",
       "    }\n",
       "</style>\n",
       "<table border=\"1\" class=\"dataframe\">\n",
       "  <thead>\n",
       "    <tr style=\"text-align: right;\">\n",
       "      <th></th>\n",
       "      <th>Ders1</th>\n",
       "      <th>Ders2</th>\n",
       "      <th>Ders3</th>\n",
       "    </tr>\n",
       "  </thead>\n",
       "  <tbody>\n",
       "    <tr>\n",
       "      <th>Ders1</th>\n",
       "      <td>1.000000</td>\n",
       "      <td>-0.118534</td>\n",
       "      <td>0.194082</td>\n",
       "    </tr>\n",
       "    <tr>\n",
       "      <th>Ders2</th>\n",
       "      <td>-0.118534</td>\n",
       "      <td>1.000000</td>\n",
       "      <td>0.025995</td>\n",
       "    </tr>\n",
       "    <tr>\n",
       "      <th>Ders3</th>\n",
       "      <td>0.194082</td>\n",
       "      <td>0.025995</td>\n",
       "      <td>1.000000</td>\n",
       "    </tr>\n",
       "  </tbody>\n",
       "</table>\n",
       "</div>"
      ],
      "text/plain": [
       "          Ders1     Ders2     Ders3\n",
       "Ders1  1.000000 -0.118534  0.194082\n",
       "Ders2 -0.118534  1.000000  0.025995\n",
       "Ders3  0.194082  0.025995  1.000000"
      ]
     },
     "execution_count": 31,
     "metadata": {},
     "output_type": "execute_result"
    }
   ],
   "source": [
    "data.corr()"
   ]
  },
  {
   "cell_type": "code",
   "execution_count": 32,
   "id": "bef58497-4802-40f5-913b-abdffd60a4ad",
   "metadata": {},
   "outputs": [
    {
     "data": {
      "text/plain": [
       "Ders1    691.877551\n",
       "Ders2    809.234694\n",
       "Ders3    817.495510\n",
       "dtype: float64"
      ]
     },
     "execution_count": 32,
     "metadata": {},
     "output_type": "execute_result"
    }
   ],
   "source": [
    "data.var(numeric_only=True)"
   ]
  },
  {
   "cell_type": "code",
   "execution_count": 33,
   "id": "82645f0f-3a0f-4518-bddd-089aef6a9a00",
   "metadata": {},
   "outputs": [
    {
     "data": {
      "image/png": "[encoded data removed]",
      "text/plain": [
       "<Figure size 720x432 with 1 Axes>"
      ]
     },
     "metadata": {
      "needs_background": "light"
     },
     "output_type": "display_data"
    }
   ],
   "source": [
    "plt.figure(figsize=(10, 6))\n",
    "sns.scatterplot(data=data, x='Ders1', y='Ders2', hue='Sınıf')\n",
    "plt.title('Ders Notları Dağılımı')\n",
    "plt.show()"
   ]
  },
  {
   "cell_type": "code",
   "execution_count": 34,
   "id": "a472d2d8-810d-4f88-a71b-e866a1cf3329",
   "metadata": {},
   "outputs": [
    {
     "data": {
      "text/plain": [
       "0"
      ]
     },
     "execution_count": 34,
     "metadata": {},
     "output_type": "execute_result"
    }
   ],
   "source": [
    "data.isnull().any().sum()"
   ]
  },
  {
   "cell_type": "code",
   "execution_count": 35,
   "id": "4d4678cb-6fb8-428c-9664-626f1590361e",
   "metadata": {},
   "outputs": [
    {
     "data": {
      "image/png": "[encoded data removed]",
      "text/plain": [
       "<Figure size 432x288 with 1 Axes>"
      ]
     },
     "metadata": {
      "needs_background": "light"
     },
     "output_type": "display_data"
    }
   ],
   "source": [
    "sns.boxplot(data=data);"
   ]
  },
  {
   "cell_type": "markdown",
   "id": "c34e38bb-c1af-431b-bcbb-4278522a5458",
   "metadata": {},
   "source": [
    "# Model"
   ]
  },
  {
   "cell_type": "code",
   "execution_count": null,
   "id": "fd726ea9-5c3d-4bc0-b6f5-6a04c277c583",
   "metadata": {},
   "outputs": [],
   "source": []
  },
  {
   "cell_type": "code",
   "execution_count": 36,
   "id": "c726cc39-2dd0-453f-9f33-0eb445cfa18c",
   "metadata": {},
   "outputs": [],
   "source": [
    "# Bağımlı ve bağımsız değişkenleri oluşturalım.\n",
    "X = data.drop('Sınıf', axis=1)\n",
    "y = data['Sınıf']"
   ]
  },
  {
   "cell_type": "code",
   "execution_count": 37,
   "id": "5465edfb-e728-4320-af12-0e9e7bed11b1",
   "metadata": {},
   "outputs": [],
   "source": [
    "# Eğitim ve test setlerini ayıralım.\n",
    "X_train, X_test, y_train, y_test = train_test_split(X, y, test_size=0.2, random_state=42)"
   ]
  },
  {
   "cell_type": "code",
   "execution_count": 38,
   "id": "db91c738-e1fb-4631-b763-3d89effb6436",
   "metadata": {},
   "outputs": [],
   "source": [
    "# Modeli Oluşturalım\n",
    "model = GaussianNB().fit(X_train, y_train)"
   ]
  },
  {
   "cell_type": "code",
   "execution_count": 39,
   "id": "c1ce9ccb-4cf9-4b75-8b61-4d8af43d6cc8",
   "metadata": {},
   "outputs": [],
   "source": [
    "# Tahmin İşlemi Yapalım.\n",
    "predict = model.predict(X_test)"
   ]
  },
  {
   "cell_type": "code",
   "execution_count": 40,
   "id": "5bc031aa-33e3-4ff6-a5e1-c836572bb290",
   "metadata": {},
   "outputs": [
    {
     "name": "stdout",
     "output_type": "stream",
     "text": [
      "Accuracy Score:  0.5\n",
      "Confusion Matrix:\n",
      "  [[4 1 1]\n",
      " [1 0 0]\n",
      " [2 0 1]]\n",
      "Classification Report:\n",
      "                precision    recall  f1-score   support\n",
      "\n",
      "           A       0.57      0.67      0.62         6\n",
      "           B       0.00      0.00      0.00         1\n",
      "           C       0.50      0.33      0.40         3\n",
      "\n",
      "    accuracy                           0.50        10\n",
      "   macro avg       0.36      0.33      0.34        10\n",
      "weighted avg       0.49      0.50      0.49        10\n",
      "\n"
     ]
    }
   ],
   "source": [
    "# Modeli Değerlendirelim.\n",
    "\n",
    "class_report = classification_report(y_test, predict)\n",
    "conf_matrix = confusion_matrix(y_test, predict)\n",
    "accuracy = accuracy_score(y_test, predict)\n",
    "\n",
    "print('Accuracy Score: ', accuracy)\n",
    "print('Confusion Matrix:\\n ', conf_matrix)\n",
    "print('Classification Report:\\n ', class_report)"
   ]
  },
  {
   "cell_type": "code",
   "execution_count": 41,
   "id": "e3292c14-217c-40be-acef-7ba91cfd7153",
   "metadata": {},
   "outputs": [
    {
     "data": {
      "text/html": [
       "<div>\n",
       "<style scoped>\n",
       "    .dataframe tbody tr th:only-of-type {\n",
       "        vertical-align: middle;\n",
       "    }\n",
       "\n",
       "    .dataframe tbody tr th {\n",
       "        vertical-align: top;\n",
       "    }\n",
       "\n",
       "    .dataframe thead th {\n",
       "        text-align: right;\n",
       "    }\n",
       "</style>\n",
       "<table border=\"1\" class=\"dataframe\">\n",
       "  <thead>\n",
       "    <tr style=\"text-align: right;\">\n",
       "      <th></th>\n",
       "      <th>Gerçek</th>\n",
       "      <th>Tahmin</th>\n",
       "    </tr>\n",
       "  </thead>\n",
       "  <tbody>\n",
       "    <tr>\n",
       "      <th>13</th>\n",
       "      <td>C</td>\n",
       "      <td>A</td>\n",
       "    </tr>\n",
       "    <tr>\n",
       "      <th>39</th>\n",
       "      <td>C</td>\n",
       "      <td>A</td>\n",
       "    </tr>\n",
       "    <tr>\n",
       "      <th>30</th>\n",
       "      <td>A</td>\n",
       "      <td>A</td>\n",
       "    </tr>\n",
       "    <tr>\n",
       "      <th>45</th>\n",
       "      <td>C</td>\n",
       "      <td>C</td>\n",
       "    </tr>\n",
       "    <tr>\n",
       "      <th>17</th>\n",
       "      <td>A</td>\n",
       "      <td>A</td>\n",
       "    </tr>\n",
       "    <tr>\n",
       "      <th>48</th>\n",
       "      <td>A</td>\n",
       "      <td>B</td>\n",
       "    </tr>\n",
       "    <tr>\n",
       "      <th>26</th>\n",
       "      <td>B</td>\n",
       "      <td>A</td>\n",
       "    </tr>\n",
       "    <tr>\n",
       "      <th>25</th>\n",
       "      <td>A</td>\n",
       "      <td>A</td>\n",
       "    </tr>\n",
       "    <tr>\n",
       "      <th>32</th>\n",
       "      <td>A</td>\n",
       "      <td>A</td>\n",
       "    </tr>\n",
       "    <tr>\n",
       "      <th>19</th>\n",
       "      <td>A</td>\n",
       "      <td>C</td>\n",
       "    </tr>\n",
       "  </tbody>\n",
       "</table>\n",
       "</div>"
      ],
      "text/plain": [
       "   Gerçek Tahmin\n",
       "13      C      A\n",
       "39      C      A\n",
       "30      A      A\n",
       "45      C      C\n",
       "17      A      A\n",
       "48      A      B\n",
       "26      B      A\n",
       "25      A      A\n",
       "32      A      A\n",
       "19      A      C"
      ]
     },
     "execution_count": 41,
     "metadata": {},
     "output_type": "execute_result"
    }
   ],
   "source": [
    "result = pd.DataFrame({\n",
    "    'Gerçek': y_test,\n",
    "    'Tahmin': predict\n",
    "})\n",
    "result.head(10)"
   ]
  },
  {
   "cell_type": "code",
   "execution_count": 42,
   "id": "0da3ecbc-c529-43a0-a2c4-43fa2c85b39f",
   "metadata": {},
   "outputs": [
    {
     "data": {
      "text/plain": [
       "50"
      ]
     },
     "execution_count": 42,
     "metadata": {},
     "output_type": "execute_result"
    }
   ],
   "source": [
    "data['Sınıf'].size"
   ]
  },
  {
   "cell_type": "code",
   "execution_count": 43,
   "id": "9574cf73-4f42-4faf-9830-a3f243c967fb",
   "metadata": {},
   "outputs": [
    {
     "data": {
      "text/plain": [
       "10"
      ]
     },
     "execution_count": 43,
     "metadata": {},
     "output_type": "execute_result"
    }
   ],
   "source": [
    "predict.size"
   ]
  },
  {
   "cell_type": "code",
   "execution_count": 44,
   "id": "240cae3b-be96-4dd7-815a-c88ee3c11231",
   "metadata": {},
   "outputs": [
    {
     "data": {
      "image/png": "[encoded data removed]",
      "text/plain": [
       "<Figure size 576x288 with 1 Axes>"
      ]
     },
     "metadata": {
      "needs_background": "light"
     },
     "output_type": "display_data"
    }
   ],
   "source": [
    "plt.figure(figsize=(8, 4))\n",
    "sns.countplot(data=data, x=data['Sınıf'][0:10], hue=predict)\n",
    "plt.title('Tahmin Değerleri ile Gerçek Değerler Arasındaki Fark')\n",
    "plt.show()"
   ]
  },
  {
   "cell_type": "code",
   "execution_count": null,
   "id": "8c58d7ea-3b89-47bd-80d3-9c315f2004ca",
   "metadata": {},
   "outputs": [],
   "source": []
  },
  {
   "cell_type": "markdown",
   "id": "ba3736a6-0bc1-48ed-9dc7-ad74fc4431a4",
   "metadata": {},
   "source": [
    "# Multinomial Naive Bayes"
   ]
  },
  {
   "cell_type": "code",
   "execution_count": 45,
   "id": "31b3ad86-2919-4030-a11a-e3d3b618ae6b",
   "metadata": {},
   "outputs": [],
   "source": [
    "import numpy as np\n",
    "import pandas as pd\n",
    "import seaborn as sns\n",
    "import matplotlib.pyplot as plt\n",
    "from sklearn.feature_extraction.text import CountVectorizer\n",
    "from sklearn.naive_bayes import MultinomialNB\n",
    "from sklearn.model_selection import train_test_split\n",
    "from sklearn.metrics import classification_report, confusion_matrix, accuracy_score"
   ]
  },
  {
   "cell_type": "code",
   "execution_count": 46,
   "id": "fcfe3bab-3111-4c85-9604-487cd7461698",
   "metadata": {},
   "outputs": [
    {
     "data": {
      "text/html": [
       "<div>\n",
       "<style scoped>\n",
       "    .dataframe tbody tr th:only-of-type {\n",
       "        vertical-align: middle;\n",
       "    }\n",
       "\n",
       "    .dataframe tbody tr th {\n",
       "        vertical-align: top;\n",
       "    }\n",
       "\n",
       "    .dataframe thead th {\n",
       "        text-align: right;\n",
       "    }\n",
       "</style>\n",
       "<table border=\"1\" class=\"dataframe\">\n",
       "  <thead>\n",
       "    <tr style=\"text-align: right;\">\n",
       "      <th></th>\n",
       "      <th>Metin</th>\n",
       "      <th>Duygu</th>\n",
       "    </tr>\n",
       "  </thead>\n",
       "  <tbody>\n",
       "    <tr>\n",
       "      <th>0</th>\n",
       "      <td>Bugün harika bir gün!</td>\n",
       "      <td>Pozitif</td>\n",
       "    </tr>\n",
       "    <tr>\n",
       "      <th>1</th>\n",
       "      <td>Üzgünüm, kötü bir günüm var.</td>\n",
       "      <td>Negatif</td>\n",
       "    </tr>\n",
       "    <tr>\n",
       "      <th>2</th>\n",
       "      <td>Bu filmi çok beğendim.</td>\n",
       "      <td>Pozitif</td>\n",
       "    </tr>\n",
       "    <tr>\n",
       "      <th>3</th>\n",
       "      <td>Hava çok güzel.</td>\n",
       "      <td>Pozitif</td>\n",
       "    </tr>\n",
       "    <tr>\n",
       "      <th>4</th>\n",
       "      <td>Maalesef sınavdan geçemedim.</td>\n",
       "      <td>Negatif</td>\n",
       "    </tr>\n",
       "  </tbody>\n",
       "</table>\n",
       "</div>"
      ],
      "text/plain": [
       "                          Metin    Duygu\n",
       "0         Bugün harika bir gün!  Pozitif\n",
       "1  Üzgünüm, kötü bir günüm var.  Negatif\n",
       "2        Bu filmi çok beğendim.  Pozitif\n",
       "3               Hava çok güzel.  Pozitif\n",
       "4  Maalesef sınavdan geçemedim.  Negatif"
      ]
     },
     "execution_count": 46,
     "metadata": {},
     "output_type": "execute_result"
    }
   ],
   "source": [
    "# Veri Seti Oluşturalım.\n",
    "\n",
    "data = {\n",
    "    'Metin': ['Bugün harika bir gün!', 'Üzgünüm, kötü bir günüm var.', 'Bu filmi çok beğendim.',\n",
    "              'Hava çok güzel.', 'Maalesef sınavdan geçemedim.', 'Yeni bir araba aldım ve çok mutluyum.',\n",
    "              'Çok sıkıldım, yapacak hiçbir şey yok.', 'Yeni işimden dolayı çok stresliyim.'],\n",
    "    'Duygu': ['Pozitif', 'Negatif', 'Pozitif', 'Pozitif', 'Negatif', 'Pozitif', 'Negatif', 'Negatif']\n",
    "}\n",
    "\n",
    "data = pd.DataFrame(data=data)\n",
    "data.head()"
   ]
  },
  {
   "cell_type": "markdown",
   "id": "f92485cc-0aad-4e8f-b45b-2aeed080ccb0",
   "metadata": {},
   "source": [
    "# Model"
   ]
  },
  {
   "cell_type": "code",
   "execution_count": 47,
   "id": "158ed13f-ba55-4833-8927-5fd43e9979aa",
   "metadata": {},
   "outputs": [],
   "source": [
    "# Metinleri sayılara dönüştürme\n",
    "vectorizer = CountVectorizer()\n",
    "X = vectorizer.fit_transform(data['Metin'])"
   ]
  },
  {
   "cell_type": "code",
   "execution_count": 48,
   "id": "0ad618ad-8d08-4f43-ad57-3820eb798333",
   "metadata": {},
   "outputs": [],
   "source": [
    "# Eğitim ve test setlerini ayıralım.\n",
    "X_train, X_test, y_train, y_test = train_test_split(X, data['Duygu'], test_size=0.2, random_state=42)"
   ]
  },
  {
   "cell_type": "code",
   "execution_count": 49,
   "id": "694a4445-db44-4d26-8747-0b1e41188274",
   "metadata": {},
   "outputs": [],
   "source": [
    "# Model Oluşturalım ve Eğitelim.\n",
    "model = MultinomialNB().fit(X_train, y_train)"
   ]
  },
  {
   "cell_type": "code",
   "execution_count": 50,
   "id": "c19c7e38-d2d1-4153-aece-380cc6c5714e",
   "metadata": {},
   "outputs": [],
   "source": [
    "# Tahmin yapalım\n",
    "predict = model.predict(X_test)"
   ]
  },
  {
   "cell_type": "code",
   "execution_count": 51,
   "id": "58c40ebb-e74d-4f1b-9288-afbc6ad4d069",
   "metadata": {},
   "outputs": [
    {
     "name": "stdout",
     "output_type": "stream",
     "text": [
      "Accuracy Score:  0.5\n",
      "Confusion Matrix:\n",
      "  [[0 1]\n",
      " [0 1]]\n"
     ]
    }
   ],
   "source": [
    "# Modeli Değerlendirelim.\n",
    "accuracy = accuracy_score(y_test, predict)\n",
    "confusion_matrix = confusion_matrix(y_test, predict)\n",
    "\n",
    "print('Accuracy Score: ', accuracy)\n",
    "print('Confusion Matrix:\\n ', confusion_matrix)"
   ]
  },
  {
   "cell_type": "markdown",
   "id": "9ef7eb93-b481-49a4-a84c-35c363a69213",
   "metadata": {},
   "source": [
    "# Tahmin"
   ]
  },
  {
   "cell_type": "code",
   "execution_count": 65,
   "id": "a406c837-32bb-4d67-acc2-c88c73d9824c",
   "metadata": {},
   "outputs": [
    {
     "name": "stdout",
     "output_type": "stream",
     "text": [
      "Tahmin:  Negatif\n"
     ]
    }
   ],
   "source": [
    "user_input = ['Maalesef sınavdan geçemedim.']\n",
    "vectorized = vectorizer.transform(user_input)\n",
    "predict = model.predict(vectorized)\n",
    "print('Tahmin: ', predict[0])"
   ]
  },
  {
   "cell_type": "code",
   "execution_count": null,
   "id": "6733bbd0-7dd4-480d-84f8-c4b5ff54a2fc",
   "metadata": {},
   "outputs": [],
   "source": []
  },
  {
   "cell_type": "markdown",
   "id": "3f9b59cf-54f4-4740-89b3-e801d5e687ca",
   "metadata": {},
   "source": [
    "# Confusion Matrix Çıktısının Yorumlanması"
   ]
  },
  {
   "cell_type": "code",
   "execution_count": 69,
   "id": "a07c7bf2-f617-422d-8d3b-56e6d8b857b2",
   "metadata": {},
   "outputs": [
    {
     "data": {
      "text/plain": [
       "array([[4, 1, 1],\n",
       "       [1, 0, 0],\n",
       "       [2, 0, 1]], dtype=int64)"
      ]
     },
     "execution_count": 69,
     "metadata": {},
     "output_type": "execute_result"
    }
   ],
   "source": [
    "conf_matrix"
   ]
  },
  {
   "cell_type": "markdown",
   "id": "8e365719-bdbb-400e-9ef2-a83ff553ee3f",
   "metadata": {},
   "source": [
    "### Bu Confusion Matrix, 3 sınıflı bir sınıflandırma problemini temsil eder. Her bir satır gerçek sınıfı, her bir sütun ise tahmin edilen sınıfları gösterir.\n",
    "\n",
    "### İlk satır, gerçek sınıfı 0 olan örnekler için tahmin edilen sınıfları gösterir. 1. sütundaki 4 değeri, gerçek sınıfı 0 olan örneklerin doğru bir şekilde tahmin edildiğini (True Positive) gösterir. 2. sütundaki 1 değeri, gerçek sınıfı 0 olan örneklerin yanlış bir şekilde tahmin edildiğini (False Negative) gösterir. 3. sütundaki 1 değeri ise, gerçek sınıfı 0 olan örneklerin başka bir sınıf olarak yanlış tahmin edildiğini (False Positive) gösterir.\n",
    "\n",
    "### İkinci satır, gerçek sınıfı 1 olan örnekler için tahmin edilen sınıfları gösterir. 1. sütundaki 1 değeri, gerçek sınıfı 1 olan örneklerin doğru bir şekilde tahmin edildiğini (True Positive) gösterir. Diğer sütunlar ise 0 değerine sahip olduğu için, gerçek sınıfı 1 olan örneklerin diğer sınıflar olarak yanlış tahmin edildiğini (False Positive) gösterir.\n",
    "\n",
    "### Üçüncü satır, gerçek sınıfı 2 olan örnekler için tahmin edilen sınıfları gösterir. 1. sütundaki 2 değeri, gerçek sınıfı 2 olan örneklerin doğru bir şekilde tahmin edildiğini (True Positive) gösterir. Diğer sütunlar ise 0 değerine sahip olduğu için, gerçek sınıfı 2 olan örneklerin diğer sınıflar olarak yanlış tahmin edildiğini (False Positive) gösterir.\n",
    "\n",
    "## Bu Confusion Matrix'e dayanarak, sınıflandırma modelinin her bir sınıf için performansını değerlendirebiliriz.\n",
    "\n",
    "### Sınıf 0: 4 doğru tahmin (True Positive), 1 yanlış negatif (False Negative), 1 yanlış pozitif (False Positive) örneği vardır.\n",
    "\n",
    "### Sınıf 1: 1 doğru tahmin (True Positive), 0 yanlış negatif (False Negative), 0 yanlış pozitif (False Positive) örneği vardır.\n",
    "\n",
    "### Sınıf 2: 1 doğru tahmin (True Positive), 0 yanlış negatif (False Negative), 2 yanlış pozitif (False Positive) örneği vardır.\n",
    "\n",
    "\n",
    "\n",
    "### Bu bilgiler, modelin her bir sınıf için ne kadar etkili olduğunu ve hangi sınıfların daha iyi veya daha kötü tahmin edildiğini anlamamıza yardımcı olur. Bu şekilde, modelin performansını değerlendirerek iyileştirmeler yapabilir veya sınıflandırma problemlemini daha iyi anlayabiliriz."
   ]
  },
  {
   "cell_type": "markdown",
   "id": "c0601fa2-d6aa-4c6c-8c07-7a7b93802810",
   "metadata": {},
   "source": [
    "# Classification Report Yorumlanması"
   ]
  },
  {
   "cell_type": "code",
   "execution_count": 71,
   "id": "c7c3b399-91d6-487b-aee8-fd1c3f8912c0",
   "metadata": {},
   "outputs": [
    {
     "name": "stdout",
     "output_type": "stream",
     "text": [
      "              precision    recall  f1-score   support\n",
      "\n",
      "           A       0.57      0.67      0.62         6\n",
      "           B       0.00      0.00      0.00         1\n",
      "           C       0.50      0.33      0.40         3\n",
      "\n",
      "    accuracy                           0.50        10\n",
      "   macro avg       0.36      0.33      0.34        10\n",
      "weighted avg       0.49      0.50      0.49        10\n",
      "\n"
     ]
    }
   ],
   "source": [
    "print(class_report)"
   ]
  },
  {
   "cell_type": "markdown",
   "id": "209aa497-a283-4197-a8a2-b0a544776683",
   "metadata": {},
   "source": [
    "### Precision: Her bir sınıf için doğru pozitif tahminlerin toplam pozitif tahminlere oranıdır. Örneğin, sınıf A için precision 0.57'dir, yani tahmin edilen sınıf A'nın %57'si gerçekten sınıf A'dır.\n",
    "\n",
    "### Recall: Her bir sınıf için doğru pozitif tahminlerin gerçek pozitiflerin toplamına oranıdır. Örneğin, sınıf B için recall 0.00'dır, yani gerçek sınıf B'nin %0.00'ı doğru bir şekilde tahmin edilmiştir.\n",
    "\n",
    "### F-1 score: Precision ve recall metriklerinin harmonik ortalamasıdır. Modelin hem precision'ı hemde recall'ı dikkate alarak performansını değerlendirir. F1-score, 1'e ne kadar yakınsa, modelin daha iyi bir performansa sahip olduğunu gösterir.\n",
    "\n",
    "### Support: Her bir sınıfın gerçek veri setindeki örnek sayısını gösterir.\n",
    "\n",
    "### Accuracy: Modelin doğru tahmin ettiği örneklerin toplam örneklere oranıdır. Bu, tüm sınıfları dikkate alarak bir başarı ölçüsü sağlar.\n",
    "\n",
    "### Macro Avg: Tüm sınıfların precision, recall ve f1-score metriklerinin makro ortalamasıdır. Her sınıfın ağırlığına bakılmaksızın her sınıfın performansını eşit olarak değerlendirir.\n",
    "\n",
    "### Weighted Avg: Tüm sınıfların precision, recall ve f1-score metriklerinin ağırlıklı ortalamasıdır. Her sınıfın örneklere olan katkısına bağlı olarak performansı değerlendirir.\n",
    "\n",
    "\n",
    "### Bu metrikler, modelin sınıfları ne kadar doğru tahmin ettiğini, hangi sınıfların daha iyi veya daha kötü tahmin edildiğini ve modelin genel performansını değerlendirmemize yardımcı olur."
   ]
  }
 ],
 "metadata": {
  "kernelspec": {
   "display_name": "Python 3 (ipykernel)",
   "language": "python",
   "name": "python3"
  },
  "language_info": {
   "codemirror_mode": {
    "name": "ipython",
    "version": 3
   },
   "file_extension": ".py",
   "mimetype": "text/x-python",
   "name": "python",
   "nbconvert_exporter": "python",
   "pygments_lexer": "ipython3",
   "version": "3.9.12"
  }
 },
 "nbformat": 4,
 "nbformat_minor": 5
}
